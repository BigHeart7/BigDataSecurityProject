{
 "cells": [
  {
   "cell_type": "markdown",
   "id": "94616b6c",
   "metadata": {},
   "source": [
    "Test access of Datalake S3 access using Pandas\n",
    "\n",
    "Implemented as EMR Notebook\n"
   ]
  },
  {
   "cell_type": "code",
   "execution_count": 1,
   "id": "f14d90c1",
   "metadata": {},
   "outputs": [
    {
     "name": "stdout",
     "output_type": "stream",
     "text": [
      "Defaulting to user installation because normal site-packages is not writeable\n",
      "Requirement already satisfied: fsspec in /home/emr-notebook/.local/lib/python3.7/site-packages (2022.11.0)\n",
      "Defaulting to user installation because normal site-packages is not writeable\n",
      "Collecting s3fs\n",
      "  Using cached s3fs-2022.11.0-py3-none-any.whl (27 kB)\n",
      "Collecting aiobotocore~=2.4.0\n",
      "  Using cached aiobotocore-2.4.1-py3-none-any.whl (66 kB)\n",
      "Requirement already satisfied: fsspec==2022.11.0 in /home/emr-notebook/.local/lib/python3.7/site-packages (from s3fs) (2022.11.0)\n",
      "Collecting aiohttp!=4.0.0a0,!=4.0.0a1\n",
      "  Using cached aiohttp-3.8.3-cp37-cp37m-manylinux_2_17_x86_64.manylinux2014_x86_64.whl (948 kB)\n",
      "Requirement already satisfied: wrapt>=1.10.10 in /home/emr-notebook/.local/lib/python3.7/site-packages (from aiobotocore~=2.4.0->s3fs) (1.14.1)\n",
      "Requirement already satisfied: aioitertools>=0.5.1 in /home/emr-notebook/.local/lib/python3.7/site-packages (from aiobotocore~=2.4.0->s3fs) (0.11.0)\n",
      "Collecting botocore<1.27.60,>=1.27.59\n",
      "  Using cached botocore-1.27.59-py3-none-any.whl (9.1 MB)\n",
      "Collecting charset-normalizer<3.0,>=2.0\n",
      "  Using cached charset_normalizer-2.1.1-py3-none-any.whl (39 kB)\n",
      "Requirement already satisfied: typing-extensions>=3.7.4; python_version < \"3.8\" in /home/emr-notebook/.local/lib/python3.7/site-packages (from aiohttp!=4.0.0a0,!=4.0.0a1->s3fs) (4.4.0)\n",
      "Collecting async-timeout<5.0,>=4.0.0a3\n",
      "  Using cached async_timeout-4.0.2-py3-none-any.whl (5.8 kB)\n",
      "Collecting asynctest==0.13.0; python_version < \"3.8\"\n",
      "  Using cached asynctest-0.13.0-py3-none-any.whl (26 kB)\n",
      "Collecting multidict<7.0,>=4.5\n",
      "  Using cached multidict-6.0.3-cp37-cp37m-manylinux_2_17_x86_64.manylinux2014_x86_64.whl (94 kB)\n",
      "Collecting yarl<2.0,>=1.0\n",
      "  Using cached yarl-1.8.2-cp37-cp37m-manylinux_2_17_x86_64.manylinux2014_x86_64.whl (231 kB)\n",
      "Collecting attrs>=17.3.0\n",
      "  Using cached attrs-22.1.0-py2.py3-none-any.whl (58 kB)\n",
      "Collecting aiosignal>=1.1.2\n",
      "  Using cached aiosignal-1.3.1-py3-none-any.whl (7.6 kB)\n",
      "Collecting frozenlist>=1.1.1\n",
      "  Using cached frozenlist-1.3.3-cp37-cp37m-manylinux_2_5_x86_64.manylinux1_x86_64.manylinux_2_17_x86_64.manylinux2014_x86_64.whl (148 kB)\n",
      "Requirement already satisfied: jmespath<2.0.0,>=0.7.1 in /usr/local/lib/python3.7/site-packages (from botocore<1.27.60,>=1.27.59->aiobotocore~=2.4.0->s3fs) (1.0.0)\n",
      "Requirement already satisfied: python-dateutil<3.0.0,>=2.1 in /home/emr-notebook/.local/lib/python3.7/site-packages (from botocore<1.27.60,>=1.27.59->aiobotocore~=2.4.0->s3fs) (2.8.2)\n",
      "Requirement already satisfied: urllib3<1.27,>=1.25.4 in /home/emr-notebook/.local/lib/python3.7/site-packages (from botocore<1.27.60,>=1.27.59->aiobotocore~=2.4.0->s3fs) (1.26.13)\n",
      "Collecting idna>=2.0\n",
      "  Using cached idna-3.4-py3-none-any.whl (61 kB)\n",
      "Requirement already satisfied: six>=1.5 in /usr/local/lib/python3.7/site-packages (from python-dateutil<3.0.0,>=2.1->botocore<1.27.60,>=1.27.59->aiobotocore~=2.4.0->s3fs) (1.13.0)\n",
      "Installing collected packages: botocore, charset-normalizer, async-timeout, asynctest, multidict, idna, yarl, attrs, frozenlist, aiosignal, aiohttp, aiobotocore, s3fs\n",
      "\u001b[33m  WARNING: The script normalizer is installed in '/home/emr-notebook/.local/bin' which is not on PATH.\n",
      "  Consider adding this directory to PATH or, if you prefer to suppress this warning, use --no-warn-script-location.\u001b[0m\n",
      "Successfully installed aiobotocore-2.4.1 aiohttp-3.8.3 aiosignal-1.3.1 async-timeout-4.0.2 asynctest-0.13.0 attrs-22.1.0 botocore-1.27.59 charset-normalizer-2.1.1 frozenlist-1.3.3 idna-3.4 multidict-6.0.3 s3fs-2022.11.0 yarl-1.8.2\n"
     ]
    }
   ],
   "source": [
    "# Load librarys\n",
    "\n",
    "! pip3 install fsspec\n",
    "! pip3 install s3fs\n",
    "\n",
    "import pandas as pd\n"
   ]
  },
  {
   "cell_type": "code",
   "execution_count": 2,
   "id": "4e6923fc",
   "metadata": {},
   "outputs": [
    {
     "name": "stdout",
     "output_type": "stream",
     "text": [
      "s3://a0ts3datalake-xxxxxx/datalake_landing/customersentiment_221101.csv\n"
     ]
    }
   ],
   "source": [
    "# Build S3 source file name\n",
    "\n",
    "# s3://a0ts3datalake-xxxxxx/datalake_landing/customersentiment_221101.csv\n",
    "\n",
    "s3_url = 's3://a0ts3datalake-xxxxxx/'\n",
    "s3_dir = 'datalake_landing/'\n",
    "s3_file = 'customersentiment_221101.csv'\n",
    "source_file = s3_url + s3_dir + s3_file\n",
    "print (source_file)\n"
   ]
  },
  {
   "cell_type": "code",
   "execution_count": 3,
   "id": "6e2f546c",
   "metadata": {},
   "outputs": [
    {
     "data": {
      "text/html": [
       "<div>\n",
       "<style scoped>\n",
       "    .dataframe tbody tr th:only-of-type {\n",
       "        vertical-align: middle;\n",
       "    }\n",
       "\n",
       "    .dataframe tbody tr th {\n",
       "        vertical-align: top;\n",
       "    }\n",
       "\n",
       "    .dataframe thead th {\n",
       "        text-align: right;\n",
       "    }\n",
       "</style>\n",
       "<table border=\"1\" class=\"dataframe\">\n",
       "  <thead>\n",
       "    <tr style=\"text-align: right;\">\n",
       "      <th></th>\n",
       "      <th>customersentimentid</th>\n",
       "      <th>customerid</th>\n",
       "      <th>sentimentdatetime</th>\n",
       "      <th>netpromoterscore</th>\n",
       "      <th>customersentimenttext</th>\n",
       "    </tr>\n",
       "  </thead>\n",
       "  <tbody>\n",
       "    <tr>\n",
       "      <th>0</th>\n",
       "      <td>3001</td>\n",
       "      <td>2001</td>\n",
       "      <td>2022-11-28 10:46:00</td>\n",
       "      <td>10</td>\n",
       "      <td>Love the product and company</td>\n",
       "    </tr>\n",
       "    <tr>\n",
       "      <th>1</th>\n",
       "      <td>3002</td>\n",
       "      <td>2002</td>\n",
       "      <td>2022-11-28 10:47:00</td>\n",
       "      <td>10</td>\n",
       "      <td>Hate the product and company</td>\n",
       "    </tr>\n",
       "  </tbody>\n",
       "</table>\n",
       "</div>"
      ],
      "text/plain": [
       "   customersentimentid  customerid    sentimentdatetime  netpromoterscore  \\\n",
       "0                 3001        2001  2022-11-28 10:46:00                10   \n",
       "1                 3002        2002  2022-11-28 10:47:00                10   \n",
       "\n",
       "          customersentimenttext  \n",
       "0  Love the product and company  \n",
       "1  Hate the product and company  "
      ]
     },
     "execution_count": 3,
     "metadata": {},
     "output_type": "execute_result"
    }
   ],
   "source": [
    "# Read the S3 bucket - using Pandas\n",
    "\n",
    "datalake_df = pd.read_csv(source_file)\n",
    "\n",
    "datalake_df.tail()\n"
   ]
  },
  {
   "cell_type": "code",
   "execution_count": null,
   "id": "fef8c52f",
   "metadata": {},
   "outputs": [],
   "source": []
  }
 ],
 "metadata": {
  "kernelspec": {
   "display_name": "Python 3",
   "language": "python",
   "name": "python3"
  },
  "language_info": {
   "codemirror_mode": {
    "name": "ipython",
    "version": 3
   },
   "file_extension": ".py",
   "mimetype": "text/x-python",
   "name": "python",
   "nbconvert_exporter": "python",
   "pygments_lexer": "ipython3",
   "version": "3.7.7"
  }
 },
 "nbformat": 4,
 "nbformat_minor": 5
}
