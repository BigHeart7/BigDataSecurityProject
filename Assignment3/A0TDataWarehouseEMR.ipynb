{
 "cells": [
  {
   "cell_type": "markdown",
   "id": "8069953f",
   "metadata": {},
   "source": [
    "Test access of Data_Warehouse on RDS Postgres\n",
    "Uses psycopg2 library\n",
    "Implemented as EMR Notebook\n"
   ]
  },
  {
   "cell_type": "code",
   "execution_count": 1,
   "id": "e06ca8b7",
   "metadata": {},
   "outputs": [
    {
     "name": "stdout",
     "output_type": "stream",
     "text": [
      "Defaulting to user installation because normal site-packages is not writeable\n",
      "Requirement already satisfied: psycopg2-binary in /home/emr-notebook/.local/lib/python3.7/site-packages (2.9.5)\n",
      "Note: you may need to restart the kernel to use updated packages.\n"
     ]
    }
   ],
   "source": [
    "%pip install psycopg2-binary"
   ]
  },
  {
   "cell_type": "code",
   "execution_count": 3,
   "id": "710ad4a2",
   "metadata": {},
   "outputs": [],
   "source": [
    "#Example connect without sqlalchemy - only psycobgp2\n",
    "# https://lizzie.codes/2019/12/10/how-to-set-up-a-postgresql-database-on-amazon-rds/\n",
    "import psycopg2 as ps\n",
    "# define credentials \n",
    "credentials = {'POSTGRES_ADDRESS' : '<rds-hostname>',\n",
    "               'POSTGRES_PORT' : '<rds-port>', \n",
    "               'POSTGRES_USERNAME' : '<username>',\n",
    "               'POSTGRES_PASSWORD' : '<password>', \n",
    "               'POSTGRES_DBNAME' : '<database-name>'} \n",
    "# create connection and cursor    \n",
    "try:\n",
    "    conn = ps.connect(host=credentials['POSTGRES_ADDRESS'],\n",
    "                  database=credentials['POSTGRES_DBNAME'],\n",
    "                  user=credentials['POSTGRES_USERNAME'],\n",
    "                  password=credentials['POSTGRES_PASSWORD'],\n",
    "                  port=credentials['POSTGRES_PORT'])\n",
    "except Exception as e:\n",
    "    raise(e)\n"
   ]
  },
  {
   "cell_type": "code",
   "execution_count": 4,
   "id": "87a128a7",
   "metadata": {},
   "outputs": [
    {
     "name": "stdout",
     "output_type": "stream",
     "text": [
      "[(1001, 'PR-1001', 'Test Product One', 'ACTIVE'), (1002, 'PR-1002', 'Test Product Two', 'ACTIVE'), (1003, 'PR-1003', 'Test Product Three', 'ACTIVE')]\n"
     ]
    }
   ],
   "source": [
    "# Create and executive cursor\n",
    "cur = conn.cursor()\n",
    "cur.execute(\"\"\"SELECT * FROM product_dim\"\"\")\n",
    "rows = cur.fetchall()\n",
    "print(rows)"
   ]
  },
  {
   "cell_type": "code",
   "execution_count": 5,
   "id": "063f8471",
   "metadata": {},
   "outputs": [
    {
     "name": "stdout",
     "output_type": "stream",
     "text": [
      "List products\n",
      "Row 1001 PR-1001 Test Product One ACTIVE\n",
      "Row 1002 PR-1002 Test Product Two ACTIVE\n",
      "Row 1003 PR-1003 Test Product Three ACTIVE\n"
     ]
    }
   ],
   "source": [
    "# Iterate and print\n",
    "print (\"List products\")\n",
    "for row in rows:\n",
    "    print (\"Row\", row[0], row[1], row[2], row[3])\n"
   ]
  },
  {
   "cell_type": "code",
   "execution_count": 6,
   "id": "34903228",
   "metadata": {},
   "outputs": [],
   "source": [
    "conn.close()"
   ]
  }
 ],
 "metadata": {
  "kernelspec": {
   "display_name": "Python 3",
   "language": "python",
   "name": "python3"
  },
  "language_info": {
   "codemirror_mode": {
    "name": "ipython",
    "version": 3
   },
   "file_extension": ".py",
   "mimetype": "text/x-python",
   "name": "python",
   "nbconvert_exporter": "python",
   "pygments_lexer": "ipython3",
   "version": "3.10.8 (main, Oct 21 2022, 22:22:30) [Clang 14.0.0 (clang-1400.0.29.202)]"
  },
  "vscode": {
   "interpreter": {
    "hash": "b0fa6594d8f4cbf19f97940f81e996739fb7646882a419484c72d19e05852a7e"
   }
  }
 },
 "nbformat": 4,
 "nbformat_minor": 5
}
