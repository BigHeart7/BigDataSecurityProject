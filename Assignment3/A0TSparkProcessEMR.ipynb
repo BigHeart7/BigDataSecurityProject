{
 "cells": [
  {
   "cell_type": "markdown",
   "id": "1c61765d",
   "metadata": {},
   "source": [
    "Test SageMaker Notebook – pyspark access of Datalake"
   ]
  },
  {
   "cell_type": "code",
   "execution_count": 1,
   "id": "29ccf46c",
   "metadata": {},
   "outputs": [
    {
     "data": {
      "application/vnd.jupyter.widget-view+json": {
       "model_id": "7c80192880e642a894646f45d713aa11",
       "version_major": 2,
       "version_minor": 0
      },
      "text/plain": [
       "VBox()"
      ]
     },
     "metadata": {},
     "output_type": "display_data"
    },
    {
     "name": "stdout",
     "output_type": "stream",
     "text": [
      "Starting Spark application\n"
     ]
    },
    {
     "data": {
      "text/html": [
       "<table>\n",
       "<tr><th>ID</th><th>YARN Application ID</th><th>Kind</th><th>State</th><th>Spark UI</th><th>Driver log</th><th>User</th><th>Current session?</th></tr><tr><td>0</td><td>application_1671013425148_0001</td><td>pyspark</td><td>idle</td><td><a target=\"_blank\" href=\"http://ip-10-0-23-11.ec2.internal:20888/proxy/application_1671013425148_0001/\" class=\"emr-proxy-link\" emr-resource=\"j-3S9WGHPVNM2MK\n",
       "\" application-id=\"application_1671013425148_0001\">Link</a></td><td><a target=\"_blank\" href=\"http://ip-10-0-16-4.ec2.internal:8042/node/containerlogs/container_1671013425148_0001_01_000001/livy\" >Link</a></td><td>None</td><td>✔</td></tr></table>"
      ],
      "text/plain": [
       "<IPython.core.display.HTML object>"
      ]
     },
     "metadata": {},
     "output_type": "display_data"
    },
    {
     "data": {
      "application/vnd.jupyter.widget-view+json": {
       "model_id": "",
       "version_major": 2,
       "version_minor": 0
      },
      "text/plain": [
       "FloatProgress(value=0.0, bar_style='info', description='Progress:', layout=Layout(height='25px', width='50%'),…"
      ]
     },
     "metadata": {},
     "output_type": "display_data"
    },
    {
     "name": "stdout",
     "output_type": "stream",
     "text": [
      "SparkSession available as 'spark'.\n"
     ]
    },
    {
     "data": {
      "application/vnd.jupyter.widget-view+json": {
       "model_id": "",
       "version_major": 2,
       "version_minor": 0
      },
      "text/plain": [
       "FloatProgress(value=0.0, bar_style='info', description='Progress:', layout=Layout(height='25px', width='50%'),…"
      ]
     },
     "metadata": {},
     "output_type": "display_data"
    }
   ],
   "source": [
    "from pyspark.sql import SparkSession\n",
    "from pyspark.sql.types import StructType, StructField, FloatType, BooleanType\n",
    "from pyspark.sql.types import DoubleType, IntegerType, StringType\n",
    "import pyspark\n",
    "from pyspark import SQLContext\n"
   ]
  },
  {
   "cell_type": "code",
   "execution_count": 2,
   "id": "ad120d56",
   "metadata": {},
   "outputs": [
    {
     "data": {
      "application/vnd.jupyter.widget-view+json": {
       "model_id": "9aa1d3e6684443ab8ea2acbd072414cd",
       "version_major": 2,
       "version_minor": 0
      },
      "text/plain": [
       "VBox()"
      ]
     },
     "metadata": {},
     "output_type": "display_data"
    },
    {
     "data": {
      "application/vnd.jupyter.widget-view+json": {
       "model_id": "",
       "version_major": 2,
       "version_minor": 0
      },
      "text/plain": [
       "FloatProgress(value=0.0, bar_style='info', description='Progress:', layout=Layout(height='25px', width='50%'),…"
      ]
     },
     "metadata": {},
     "output_type": "display_data"
    }
   ],
   "source": [
    "# Setup the Configuration\n",
    "conf = pyspark.SparkConf()\n",
    "spark_context = SparkSession.builder.config(conf=conf).getOrCreate()\n",
    "sqlcontext = SQLContext(sc)\n"
   ]
  },
  {
   "cell_type": "code",
   "execution_count": 3,
   "id": "9c854a86",
   "metadata": {},
   "outputs": [
    {
     "data": {
      "application/vnd.jupyter.widget-view+json": {
       "model_id": "8c03f88792a24dcf900269c340d59a09",
       "version_major": 2,
       "version_minor": 0
      },
      "text/plain": [
       "VBox()"
      ]
     },
     "metadata": {},
     "output_type": "display_data"
    },
    {
     "data": {
      "application/vnd.jupyter.widget-view+json": {
       "model_id": "",
       "version_major": 2,
       "version_minor": 0
      },
      "text/plain": [
       "FloatProgress(value=0.0, bar_style='info', description='Progress:', layout=Layout(height='25px', width='50%'),…"
      ]
     },
     "metadata": {},
     "output_type": "display_data"
    },
    {
     "name": "stdout",
     "output_type": "stream",
     "text": [
      "Read parquet file complete"
     ]
    }
   ],
   "source": [
    "# Example to test if spark is OK\n",
    "file_name = \"s3://athena-examples-us-east-1/notebooks/yellow_tripdata_2016-01.parquet\"\n",
    "\n",
    "taxi_df = (spark.read.format(\"parquet\")\n",
    "     .option(\"header\", \"true\")\n",
    "     .option(\"inferSchema\", \"true\")\n",
    "     .load(file_name))\n",
    "\n",
    "print(\"Read parquet file\" + \" complete\")"
   ]
  },
  {
   "cell_type": "code",
   "execution_count": 4,
   "id": "d706e204",
   "metadata": {},
   "outputs": [
    {
     "data": {
      "application/vnd.jupyter.widget-view+json": {
       "model_id": "811ee96d82234ab99ce3b87c04392a38",
       "version_major": 2,
       "version_minor": 0
      },
      "text/plain": [
       "VBox()"
      ]
     },
     "metadata": {},
     "output_type": "display_data"
    },
    {
     "data": {
      "application/vnd.jupyter.widget-view+json": {
       "model_id": "",
       "version_major": 2,
       "version_minor": 0
      },
      "text/plain": [
       "FloatProgress(value=0.0, bar_style='info', description='Progress:', layout=Layout(height='25px', width='50%'),…"
      ]
     },
     "metadata": {},
     "output_type": "display_data"
    },
    {
     "name": "stdout",
     "output_type": "stream",
     "text": [
      "s3://a0ts3datalake-xxxxxx/datalake_landing/customersentiment_221101.csv"
     ]
    }
   ],
   "source": [
    "# Build S3 source file name\n",
    "\n",
    "#s3://a0ts3datalake-xxxxxx/datalake_landing/customersentiment_221101.csv\n",
    "\n",
    "s3_url = 's3://a0ts3datalake-xxxxxx/'\n",
    "s3_dir = 'datalake_landing/'\n",
    "s3_file = 'customersentiment_221101.csv'\n",
    "source_file = s3_url + s3_dir + s3_file\n",
    "print (source_file)"
   ]
  },
  {
   "cell_type": "code",
   "execution_count": 5,
   "id": "6aa99fbb",
   "metadata": {},
   "outputs": [
    {
     "data": {
      "application/vnd.jupyter.widget-view+json": {
       "model_id": "9e0b46b8e12c43de8672af20417aaf42",
       "version_major": 2,
       "version_minor": 0
      },
      "text/plain": [
       "VBox()"
      ]
     },
     "metadata": {},
     "output_type": "display_data"
    },
    {
     "data": {
      "application/vnd.jupyter.widget-view+json": {
       "model_id": "",
       "version_major": 2,
       "version_minor": 0
      },
      "text/plain": [
       "FloatProgress(value=0.0, bar_style='info', description='Progress:', layout=Layout(height='25px', width='50%'),…"
      ]
     },
     "metadata": {},
     "output_type": "display_data"
    },
    {
     "name": "stdout",
     "output_type": "stream",
     "text": [
      "Read source file s3://a0ts3datalake-xxxxxx/datalake_landing/customersentiment_221101.csv complete\n",
      "+-------------------+----------+-------------------+----------------+----------------------------+\n",
      "|customersentimentid|customerid|sentimentdatetime  |netpromoterscore|customersentimenttext       |\n",
      "+-------------------+----------+-------------------+----------------+----------------------------+\n",
      "|3001               |2001      |2022-11-28 10:46:00|10              |Love the product and company|\n",
      "|3002               |2002      |2022-11-28 10:47:00|10              |Hate the product and company|\n",
      "+-------------------+----------+-------------------+----------------+----------------------------+"
     ]
    }
   ],
   "source": [
    "# Read CSV in datalake landing area\n",
    "\n",
    "source_df = (spark.read.format(\"csv\")\n",
    "     .option(\"header\", \"true\")\n",
    "     .option(\"inferSchema\", \"true\")\n",
    "     .load(source_file))\n",
    "\n",
    "\n",
    "print(\"Read source file \" + source_file + \" complete\")\n",
    "\n",
    "source_df.show(truncate=False)"
   ]
  }
 ],
 "metadata": {
  "kernelspec": {
   "display_name": "PySpark",
   "language": "python",
   "name": "pysparkkernel"
  },
  "language_info": {
   "codemirror_mode": {
    "name": "python",
    "version": 3
   },
   "file_extension": ".py",
   "mimetype": "text/x-python",
   "name": "pyspark",
   "pygments_lexer": "python3"
  }
 },
 "nbformat": 4,
 "nbformat_minor": 5
}
