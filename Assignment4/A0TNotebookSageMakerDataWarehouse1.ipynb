{
 "cells": [
  {
   "cell_type": "markdown",
   "id": "5086bb3b",
   "metadata": {},
   "source": [
    "# Test access of Data_Warehouse on RDS Postgres\n",
    "## Uses psycopg2 library\n",
    "## Implemented as SAGEMAKER Notebook"
   ]
  },
  {
   "cell_type": "code",
   "execution_count": 3,
   "id": "a20d932d",
   "metadata": {},
   "outputs": [
    {
     "name": "stdout",
     "output_type": "stream",
     "text": [
      "Looking in indexes: https://pypi.org/simple, https://pip.repos.neuron.amazonaws.com\n",
      "Requirement already satisfied: psycopg2-binary in /home/ec2-user/anaconda3/envs/python3/lib/python3.8/site-packages (2.9.3)\n",
      "\u001b[33mWARNING: You are using pip version 22.0.4; however, version 22.3.1 is available.\n",
      "You should consider upgrading via the '/home/ec2-user/anaconda3/envs/python3/bin/python -m pip install --upgrade pip' command.\u001b[0m\u001b[33m\n",
      "\u001b[0mNote: you may need to restart the kernel to use updated packages.\n"
     ]
    }
   ],
   "source": [
    "%pip install psycopg2-binary"
   ]
  },
  {
   "cell_type": "code",
   "execution_count": 4,
   "id": "c3491d47",
   "metadata": {},
   "outputs": [],
   "source": [
    "# Example connect without sqlalchemy - only psycobgp2\n",
    "# https://lizzie.codes/2019/12/10/how-to-set-up-a-postgresql-database-on-amazon-rds/\n",
    "import psycopg2 as ps\n",
    "# define credentials \n",
    "credentials = {'POSTGRES_ADDRESS' : '<rds-hostname>',\n",
    "               'POSTGRES_PORT' : '<rds-port>', \n",
    "               'POSTGRES_USERNAME' : '<username>',\n",
    "               'POSTGRES_PASSWORD' : '<password>', \n",
    "               'POSTGRES_DBNAME' : '<database-name>'} \n",
    "# create connection and cursor    \n",
    "conn = ps.connect(host=credentials['POSTGRES_ADDRESS'],\n",
    "                  database=credentials['POSTGRES_DBNAME'],\n",
    "                  user=credentials['POSTGRES_USERNAME'],\n",
    "                  password=credentials['POSTGRES_PASSWORD'],\n",
    "                  port=credentials['POSTGRES_PORT'])\n"
   ]
  },
  {
   "cell_type": "code",
   "execution_count": 5,
   "id": "9258f869",
   "metadata": {},
   "outputs": [],
   "source": [
    "# Create and executive cursor\n",
    "cur = conn.cursor()\n",
    "cur.execute(\"\"\"SELECT * FROM product_dim\"\"\")\n",
    "rows = cur.fetchall()\n"
   ]
  },
  {
   "cell_type": "code",
   "execution_count": 6,
   "id": "01aea5b7",
   "metadata": {},
   "outputs": [
    {
     "name": "stdout",
     "output_type": "stream",
     "text": [
      "List products\n",
      "Row 1001 PR-1001 Test Product One ACTIVE\n",
      "Row 1002 PR-1002 Test Product Two ACTIVE\n",
      "Row 1003 PR-1003 Test Product Three ACTIVE\n"
     ]
    }
   ],
   "source": [
    "# Iterate and print\n",
    "print (\"List products\")\n",
    "for row in rows:\n",
    "    print (\"Row\", row[0], row[1], row[2], row[3])\n"
   ]
  },
  {
   "cell_type": "code",
   "execution_count": 7,
   "id": "cb7edca7",
   "metadata": {},
   "outputs": [],
   "source": [
    "conn.close()"
   ]
  }
 ],
 "metadata": {
  "kernelspec": {
   "display_name": "Python 3",
   "language": "python",
   "name": "python3"
  },
  "language_info": {
   "codemirror_mode": {
    "name": "ipython",
    "version": 3
   },
   "file_extension": ".py",
   "mimetype": "text/x-python",
   "name": "python",
   "nbconvert_exporter": "python",
   "pygments_lexer": "ipython3",
   "version": "3.10.8 (main, Oct 21 2022, 22:22:30) [Clang 14.0.0 (clang-1400.0.29.202)]"
  },
  "vscode": {
   "interpreter": {
    "hash": "b0fa6594d8f4cbf19f97940f81e996739fb7646882a419484c72d19e05852a7e"
   }
  }
 },
 "nbformat": 4,
 "nbformat_minor": 5
}
