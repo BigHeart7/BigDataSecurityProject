{
 "cells": [
  {
   "cell_type": "markdown",
   "id": "538c8fa7",
   "metadata": {},
   "source": [
    "#  Test access of Datalake S3 access using Pandas\n",
    "\n",
    "## Implemented as SAGEMAKER Notebook\n"
   ]
  },
  {
   "cell_type": "code",
   "execution_count": 1,
   "id": "db924b83",
   "metadata": {},
   "outputs": [],
   "source": [
    "# Load librarys\n",
    "\n",
    "# pip install fsspec\n",
    "# pip install s3fs\n",
    "\n",
    "import pandas as pd\n"
   ]
  },
  {
   "cell_type": "code",
   "execution_count": 2,
   "id": "3c40c6d5",
   "metadata": {},
   "outputs": [
    {
     "name": "stdout",
     "output_type": "stream",
     "text": [
      "s3://a0ts3datalake-xxxxxx/datalake_landing/customersentiment_221101.csv\n"
     ]
    }
   ],
   "source": [
    "# Build S3 source file name\n",
    "\n",
    "# s3://a0ts3datalake-xxxxxx/datalake_landing/customersentiment_221101.csv\n",
    "\n",
    "s3_url = 's3://a0ts3datalake-xxxxxx/'\n",
    "s3_dir = 'datalake_landing/'\n",
    "s3_file = 'customersentiment_221101.csv'\n",
    "source_file = s3_url + s3_dir + s3_file\n",
    "print (source_file)\n"
   ]
  },
  {
   "cell_type": "code",
   "execution_count": 3,
   "id": "d8ee9419",
   "metadata": {},
   "outputs": [
    {
     "data": {
      "text/html": [
       "<div>\n",
       "<style scoped>\n",
       "    .dataframe tbody tr th:only-of-type {\n",
       "        vertical-align: middle;\n",
       "    }\n",
       "\n",
       "    .dataframe tbody tr th {\n",
       "        vertical-align: top;\n",
       "    }\n",
       "\n",
       "    .dataframe thead th {\n",
       "        text-align: right;\n",
       "    }\n",
       "</style>\n",
       "<table border=\"1\" class=\"dataframe\">\n",
       "  <thead>\n",
       "    <tr style=\"text-align: right;\">\n",
       "      <th></th>\n",
       "      <th>customersentimentid</th>\n",
       "      <th>customerid</th>\n",
       "      <th>sentimentdatetime</th>\n",
       "      <th>netpromoterscore</th>\n",
       "      <th>customersentimenttext</th>\n",
       "    </tr>\n",
       "  </thead>\n",
       "  <tbody>\n",
       "    <tr>\n",
       "      <th>0</th>\n",
       "      <td>3001</td>\n",
       "      <td>2001</td>\n",
       "      <td>2022-11-28 10:46:00</td>\n",
       "      <td>10</td>\n",
       "      <td>Love the product and company</td>\n",
       "    </tr>\n",
       "    <tr>\n",
       "      <th>1</th>\n",
       "      <td>3002</td>\n",
       "      <td>2002</td>\n",
       "      <td>2022-11-28 10:47:00</td>\n",
       "      <td>10</td>\n",
       "      <td>Hate the product and company</td>\n",
       "    </tr>\n",
       "  </tbody>\n",
       "</table>\n",
       "</div>"
      ],
      "text/plain": [
       "   customersentimentid  customerid    sentimentdatetime  netpromoterscore  \\\n",
       "0                 3001        2001  2022-11-28 10:46:00                10   \n",
       "1                 3002        2002  2022-11-28 10:47:00                10   \n",
       "\n",
       "          customersentimenttext  \n",
       "0  Love the product and company  \n",
       "1  Hate the product and company  "
      ]
     },
     "execution_count": 3,
     "metadata": {},
     "output_type": "execute_result"
    }
   ],
   "source": [
    "# Read the S3 bucket - using Pandas\n",
    "\n",
    "datalake_df = pd.read_csv(source_file)\n",
    "\n",
    "datalake_df.tail()\n"
   ]
  },
  {
   "cell_type": "code",
   "execution_count": null,
   "id": "44e7bd4c",
   "metadata": {},
   "outputs": [],
   "source": []
  }
 ],
 "metadata": {
  "kernelspec": {
   "display_name": "conda_python3",
   "language": "python",
   "name": "conda_python3"
  },
  "language_info": {
   "codemirror_mode": {
    "name": "ipython",
    "version": 3
   },
   "file_extension": ".py",
   "mimetype": "text/x-python",
   "name": "python",
   "nbconvert_exporter": "python",
   "pygments_lexer": "ipython3",
   "version": "3.8.12"
  }
 },
 "nbformat": 4,
 "nbformat_minor": 5
}
